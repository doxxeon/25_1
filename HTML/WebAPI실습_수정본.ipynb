{
  "cells": [
    {
      "cell_type": "code",
      "execution_count": null,
      "metadata": {},
      "outputs": [
        {
          "name": "stdout",
          "output_type": "stream",
          "text": [
            "/Library/Developer/CommandLineTools/usr/bin/python3\n",
            "Defaulting to user installation because normal site-packages is not writeable\n",
            "Collecting xmltodict\n",
            "  Downloading xmltodict-0.14.2-py2.py3-none-any.whl (10.0 kB)\n",
            "Installing collected packages: xmltodict\n",
            "Successfully installed xmltodict-0.14.2\n",
            "\u001b[33mWARNING: You are using pip version 21.2.4; however, version 25.0.1 is available.\n",
            "You should consider upgrading via the '/Library/Developer/CommandLineTools/usr/bin/python3 -m pip install --upgrade pip' command.\u001b[0m\n"
          ]
        }
      ],
      "source": [
        "import sys\n",
        "print(sys.executable)\n",
        "\n",
        "!{sys.executable} -m pip install xmltodict\n"
      ]
    },
    {
      "cell_type": "code",
      "execution_count": 21,
      "metadata": {
        "colab": {
          "base_uri": "https://localhost:8080/",
          "height": 35
        },
        "id": "uQR_3OvPNqsH",
        "outputId": "a4c6494b-0b69-4a22-dbdd-7178aa5d91eb"
      },
      "outputs": [
        {
          "data": {
            "text/plain": [
              "'PYgq7s18hS5yFhC/5Azhj6zMKVBknzBEZKJdcyOX/LA7d18yE+5LhuLLdE7ZDtWRgIjdwNQJBnyheI4HSem/qg=='"
            ]
          },
          "execution_count": 21,
          "metadata": {},
          "output_type": "execute_result"
        }
      ],
      "source": [
        "import requests\n",
        "\n",
        "API_KEY = 'PYgq7s18hS5yFhC%2F5Azhj6zMKVBknzBEZKJdcyOX%2FLA7d18yE%2B5LhuLLdE7ZDtWRgIjdwNQJBnyheI4HSem%2Fqg%3D%3D'\n",
        "API_KEY_decode = requests.utils.unquote(API_KEY)\n",
        "API_KEY_decode"
      ]
    },
    {
      "cell_type": "code",
      "execution_count": 30,
      "metadata": {
        "colab": {
          "base_uri": "https://localhost:8080/",
          "height": 143
        },
        "id": "goXgZBjDXXBy",
        "outputId": "c5bbe429-8987-4e96-c604-de1670c80601"
      },
      "outputs": [
        {
          "name": "stdout",
          "output_type": "stream",
          "text": [
            "<Response [200]>\n"
          ]
        },
        {
          "data": {
            "text/plain": [
              "'<?xml version=\"1.0\" encoding=\"UTF-8\" standalone=\"yes\"?><NewAddressListResponse><cmmMsgHeader><requestMsgId></requestMsgId><responseMsgId></responseMsgId><responseTime>20250304:114358904</responseTime><successYN>N</successYN><returnCode>30</returnCode><errMsg>SERVICE KEY IS NOT REGISTERED ERROR.</errMsg></cmmMsgHeader></NewAddressListResponse>'"
            ]
          },
          "execution_count": 30,
          "metadata": {},
          "output_type": "execute_result"
        }
      ],
      "source": [
        "url = 'http://openapi.epost.go.kr/postal/retrieveNewAdressAreaCdService/retrieveNewAdressAreaCdService/getNewAddressListAreaCd'\n",
        "# http://openapi.epost.go.kr/postal/retrieveNewAdressAreaCdService/retrieveNewAdressAreaCdService/getNewAddressListAreaCd\n",
        "\n",
        "search_Se = \"road\"\n",
        "srch_wrd = \"둔산대로 135\"\n",
        "\n",
        "parameter = {\"ServiceKey\": API_KEY_decode, \"searchSe\" : search_Se, \"srchwrd\" : srch_wrd }\n",
        "result = requests.get(url, params = parameter)\n",
        "print(result) # 응답코드 확인\n",
        "xml_data = result.text\n",
        "xml_data"
      ]
    },
    {
      "cell_type": "code",
      "execution_count": 28,
      "metadata": {
        "colab": {
          "base_uri": "https://localhost:8080/"
        },
        "id": "LT4198prYx2X",
        "outputId": "05d4564d-9f65-405d-fe1a-2214991d931e"
      },
      "outputs": [
        {
          "name": "stdout",
          "output_type": "stream",
          "text": [
            "Requirement already satisfied: xmltodict in /opt/miniconda3/lib/python3.12/site-packages (0.14.2)\n"
          ]
        }
      ],
      "source": [
        "!pip install xmltodict"
      ]
    },
    {
      "cell_type": "code",
      "execution_count": 31,
      "metadata": {
        "colab": {
          "base_uri": "https://localhost:8080/"
        },
        "id": "KIsXdaW9Y5PI",
        "outputId": "753f1f21-d06b-412d-9c96-f45aad4e067a"
      },
      "outputs": [
        {
          "data": {
            "text/plain": [
              "{'NewAddressListResponse': {'cmmMsgHeader': {'requestMsgId': None,\n",
              "   'responseMsgId': None,\n",
              "   'responseTime': '20250304:114358904',\n",
              "   'successYN': 'N',\n",
              "   'returnCode': '30',\n",
              "   'errMsg': 'SERVICE KEY IS NOT REGISTERED ERROR.'}}}"
            ]
          },
          "execution_count": 31,
          "metadata": {},
          "output_type": "execute_result"
        }
      ],
      "source": [
        "import xmltodict\n",
        "\n",
        "dict_data = xmltodict.parse(xml_data) # xml -> dict\n",
        "dict_data"
      ]
    },
    {
      "cell_type": "code",
      "execution_count": null,
      "metadata": {
        "colab": {
          "base_uri": "https://localhost:8080/"
        },
        "id": "JafxpZpXZeG6",
        "outputId": "cdbe53d6-2240-406e-899b-99dae6bb302f"
      },
      "outputs": [
        {
          "name": "stdout",
          "output_type": "stream",
          "text": [
            "{'zipNo': '35204', 'lnmAdres': '대전광역시 서구 둔산대로 135 (만년동, 대전예술의전당)', 'rnAdres': '대전광역시 서구 만년동 396 대전예술의전당'}\n",
            "[입력한 도로명 주소] 둔산대로 135\n",
            "[응답 데이터에서 추출한 결과]\n",
            "-우편번호 35204\n",
            "-도로명주소 대전광역시 서구 둔산대로 135 (만년동, 대전예술의전당)\n",
            "-지번주소 대전광역시 서구 만년동 396 대전예술의전당\n"
          ]
        }
      ],
      "source": [
        "address_list = dict_data['NewAddressListResponse']['newAddressListAreaCd']\n",
        "print(address_list)\n",
        "\n",
        "print(\"[입력한 도로명 주소]\", srch_wrd)\n",
        "print(\"[응답 데이터에서 추출한 결과]\")\n",
        "print(\"-우편번호\", address_list['zipNo'])\n",
        "print(\"-도로명주소\", address_list['lnmAdres'])\n",
        "print(\"-지번주소\", address_list['rnAdres'])"
      ]
    },
    {
      "cell_type": "markdown",
      "metadata": {
        "id": "PM4AYpYvc5yM"
      },
      "source": [
        "날씨 정보 가져오기"
      ]
    },
    {
      "cell_type": "code",
      "execution_count": null,
      "metadata": {
        "colab": {
          "base_uri": "https://localhost:8080/",
          "height": 35
        },
        "id": "p2bJWCYvc8jV",
        "outputId": "19a97fa6-94f4-424d-bc7f-316f3c88ecd4"
      },
      "outputs": [
        {
          "data": {
            "text/plain": [
              "'O7jNwhi5HptRZAX09Q5JklD9mnn5MWdjED5QFMRZNh9mdRIyLu2uaGBrzlclK001lfyssLTie5orFL+pKS5ogQ=='"
            ]
          },
          "execution_count": 33,
          "metadata": {},
          "output_type": "execute_result"
        }
      ],
      "source": [
        "import requests\n",
        "\n",
        "API_KEY = 'PYgq7s18hS5yFhC%2F5Azhj6zMKVBknzBEZKJdcyOX%2FLA7d18yE%2B5LhuLLdE7ZDtWRgIjdwNQJBnyheI4HSem%2Fqg%3D%3D' # 자신의 인증키\n",
        "API_KEY_decode = requests.utils.unquote(API_KEY)\n",
        "API_KEY_decode"
      ]
    },
    {
      "cell_type": "code",
      "execution_count": 34,
      "metadata": {
        "colab": {
          "base_uri": "https://localhost:8080/"
        },
        "id": "DNszisFBrZ7h",
        "outputId": "ded555a2-454d-44f4-9e48-a6a3640fd050"
      },
      "outputs": [
        {
          "name": "stdout",
          "output_type": "stream",
          "text": [
            "Collecting pytz\n",
            "  Downloading pytz-2025.1-py2.py3-none-any.whl.metadata (22 kB)\n",
            "Downloading pytz-2025.1-py2.py3-none-any.whl (507 kB)\n",
            "\u001b[2K   \u001b[90m━━━━━━━━━━━━━━━━━━━━━━━━━━━━━━━━━━━━━━━━\u001b[0m \u001b[32m507.9/507.9 kB\u001b[0m \u001b[31m14.8 MB/s\u001b[0m eta \u001b[36m0:00:00\u001b[0m\n",
            "\u001b[?25hInstalling collected packages: pytz\n",
            "Successfully installed pytz-2025.1\n"
          ]
        }
      ],
      "source": [
        "!pip install pytz"
      ]
    },
    {
      "cell_type": "code",
      "execution_count": null,
      "metadata": {
        "colab": {
          "base_uri": "https://localhost:8080/"
        },
        "id": "H7Y18aLxdEG-",
        "outputId": "03eacb8e-fdc4-4e87-9fa0-a28ddb392c00"
      },
      "outputs": [
        {
          "name": "stdout",
          "output_type": "stream",
          "text": [
            "2024-07-01 21:15:35.515144+09:00\n",
            "20240701 2100\n",
            "20240701 2000\n",
            "<Response [200]>\n",
            "{\"response\":{\"header\":{\"resultCode\":\"00\",\"resultMsg\":\"NORMAL_SERVICE\"},\"body\":{\"dataType\":\"JSON\",\"items\":{\"item\":[{\"baseDate\":\"20240701\",\"baseTime\":\"2100\",\"category\":\"PTY\",\"nx\":67,\"ny\":100,\"obsrValue\":\"0\"},{\"baseDate\":\"20240701\",\"baseTime\":\"2100\",\"category\":\"REH\",\"nx\":67,\"ny\":100,\"obsrValue\":\"73\"},{\"baseDate\":\"20240701\",\"baseTime\":\"2100\",\"category\":\"RN1\",\"nx\":67,\"ny\":100,\"obsrValue\":\"0\"},{\"baseDate\":\"20240701\",\"baseTime\":\"2100\",\"category\":\"T1H\",\"nx\":67,\"ny\":100,\"obsrValue\":\"26.4\"},{\"baseDate\":\"20240701\",\"baseTime\":\"2100\",\"category\":\"UUU\",\"nx\":67,\"ny\":100,\"obsrValue\":\"0.4\"},{\"baseDate\":\"20240701\",\"baseTime\":\"2100\",\"category\":\"VEC\",\"nx\":67,\"ny\":100,\"obsrValue\":\"307\"}]},\"pageNo\":1,\"numOfRows\":6,\"totalCount\":8}}}\n"
          ]
        },
        {
          "data": {
            "text/plain": [
              "{'response': {'header': {'resultCode': '00', 'resultMsg': 'NORMAL_SERVICE'},\n",
              "  'body': {'dataType': 'JSON',\n",
              "   'items': {'item': [{'baseDate': '20240701',\n",
              "      'baseTime': '2100',\n",
              "      'category': 'PTY',\n",
              "      'nx': 67,\n",
              "      'ny': 100,\n",
              "      'obsrValue': '0'},\n",
              "     {'baseDate': '20240701',\n",
              "      'baseTime': '2100',\n",
              "      'category': 'REH',\n",
              "      'nx': 67,\n",
              "      'ny': 100,\n",
              "      'obsrValue': '73'},\n",
              "     {'baseDate': '20240701',\n",
              "      'baseTime': '2100',\n",
              "      'category': 'RN1',\n",
              "      'nx': 67,\n",
              "      'ny': 100,\n",
              "      'obsrValue': '0'},\n",
              "     {'baseDate': '20240701',\n",
              "      'baseTime': '2100',\n",
              "      'category': 'T1H',\n",
              "      'nx': 67,\n",
              "      'ny': 100,\n",
              "      'obsrValue': '26.4'},\n",
              "     {'baseDate': '20240701',\n",
              "      'baseTime': '2100',\n",
              "      'category': 'UUU',\n",
              "      'nx': 67,\n",
              "      'ny': 100,\n",
              "      'obsrValue': '0.4'},\n",
              "     {'baseDate': '20240701',\n",
              "      'baseTime': '2100',\n",
              "      'category': 'VEC',\n",
              "      'nx': 67,\n",
              "      'ny': 100,\n",
              "      'obsrValue': '307'}]},\n",
              "   'pageNo': 1,\n",
              "   'numOfRows': 6,\n",
              "   'totalCount': 8}}}"
            ]
          },
          "execution_count": 8,
          "metadata": {},
          "output_type": "execute_result"
        }
      ],
      "source": [
        "import json, datetime\n",
        "from pytz import timezone\n",
        "\n",
        "now = datetime.datetime.now()\n",
        "local_time = datetime.datetime.now(timezone('Asia/Seoul')) # 현재 한국 로컬 시간 적용\n",
        "print(local_time)\n",
        "\n",
        "date = \"{:%Y%m%d}\".format(local_time)\n",
        "time = \"{:%H00}\".format(local_time) # 분은 무시하고 시간만\n",
        "print(date, time)\n",
        "\n",
        "if (local_time.minute >= 30): # 현재 분이 30분 이전이면\n",
        "  time = \"{0}00\".format(local_time.hour) # 이전 시간의 정시로 설정\n",
        "  if len(time) == 3: # 231230 추가, ex) 600 => 0600으로 처리\n",
        "      time = \"0{0}00\".format(local_time.hour)\n",
        "else:\n",
        "  time = \"{0}00\".format(local_time.hour-1)\n",
        "  if len(time) == 3:\n",
        "      time = \"0{0}00\".format(local_time.hour)\n",
        "\n",
        "url = 'http://apis.data.go.kr/1360000/VilageFcstInfoService_2.0/getUltraSrtNcst'\n",
        "\n",
        "baseDate = date\n",
        "print(baseDate, time)\n",
        "\n",
        "nx_val = 67 # 예보지점 x\n",
        "ny_val = 100 # 예보지점 y\n",
        "num_of_rows = 6\n",
        "page_no = 1\n",
        "output_type = \"JSON\" # XML 택 일\n",
        "\n",
        "parameter = {\"ServiceKey\":API_KEY_decode, \"pageNo\":page_no, \"numOfRows\":num_of_rows, \"dataType\":output_type,\n",
        "             \"base_date\":baseDate, \"base_time\":time, \"nx\":nx_val, \"ny\":ny_val\n",
        "            }\n",
        "r = requests.get(url, params=parameter)\n",
        "print(r)\n",
        "print(r.text)\n",
        "dict_data = r.json() # json -> dict\n",
        "dict_data"
      ]
    },
    {
      "cell_type": "code",
      "execution_count": null,
      "metadata": {
        "colab": {
          "base_uri": "https://localhost:8080/"
        },
        "id": "mmrIOSqNim2k",
        "outputId": "f52b902b-dbd9-4633-de27-938fed10d033"
      },
      "outputs": [
        {
          "name": "stdout",
          "output_type": "stream",
          "text": [
            "[{'baseDate': '20240701', 'baseTime': '2100', 'category': 'PTY', 'nx': 67, 'ny': 100, 'obsrValue': '0'}, {'baseDate': '20240701', 'baseTime': '2100', 'category': 'REH', 'nx': 67, 'ny': 100, 'obsrValue': '73'}, {'baseDate': '20240701', 'baseTime': '2100', 'category': 'RN1', 'nx': 67, 'ny': 100, 'obsrValue': '0'}, {'baseDate': '20240701', 'baseTime': '2100', 'category': 'T1H', 'nx': 67, 'ny': 100, 'obsrValue': '26.4'}, {'baseDate': '20240701', 'baseTime': '2100', 'category': 'UUU', 'nx': 67, 'ny': 100, 'obsrValue': '0.4'}, {'baseDate': '20240701', 'baseTime': '2100', 'category': 'VEC', 'nx': 67, 'ny': 100, 'obsrValue': '307'}]\n",
            "[발표 날짜]: 20240701\n",
            "[발표 시간]: 2100\n",
            "['없음', '비', '진눈개비', '눈']\n",
            "0\n",
            "* 강수: 없음\n",
            "* 습도 : 73퍼센트\n",
            "* 기온 : 26.4도\n"
          ]
        }
      ],
      "source": [
        "weather_items = dict_data['response']['body']['items']['item']\n",
        "print(weather_items)\n",
        "sky_cond = [\"맑음\", \"구름 조금\", \"구름 많음\", \"흐림\"]\n",
        "rain_type = [\"없음\", \"비\", \"진눈개비\", \"눈\"]\n",
        "\n",
        "print(\"[발표 날짜]: {}\".format(weather_items[0]['baseDate']))\n",
        "print(\"[발표 시간]: {}\".format(weather_items[0]['baseTime']))\n",
        "\n",
        "for k in range(len(weather_items)):\n",
        "  weather_item = weather_items[k]\n",
        "  obsrValue = weather_item['obsrValue']\n",
        "  if(weather_item['category'] == 'T1H'):\n",
        "    print(\"* 기온 : {}도\".format(obsrValue))\n",
        "  elif(weather_item['category'] == 'REH'):\n",
        "    print(\"* 습도 : {}퍼센트\".format(obsrValue))\n",
        "  elif(weather_item['category'] == 'SKY'):\n",
        "    print(sky_cond)\n",
        "    print(\"* 하늘 : {}\".format(sky_cond[obsrValue]-1))\n",
        "  elif(weather_item['category'] == 'PTY'):\n",
        "    print(rain_type)\n",
        "    print(obsrValue)\n",
        "    print(\"* 강수: {}\".format(rain_type[int(obsrValue)]))"
      ]
    },
    {
      "cell_type": "code",
      "execution_count": null,
      "metadata": {
        "colab": {
          "base_uri": "https://localhost:8080/",
          "height": 35
        },
        "id": "mR9lYhkgvxPX",
        "outputId": "6b3b6b99-82bc-4cfd-c0d5-845e67c89555"
      },
      "outputs": [
        {
          "data": {
            "application/vnd.google.colaboratory.intrinsic+json": {
              "type": "string"
            },
            "text/plain": [
              "'O7jNwhi5HptRZAX09Q5JklD9mnn5MWdjED5QFMRZNh9mdRIyLu2uaGBrzlclK001lfyssLTie5orFL+pKS5ogQ=='"
            ]
          },
          "execution_count": 10,
          "metadata": {},
          "output_type": "execute_result"
        }
      ],
      "source": [
        "import requests\n",
        "\n",
        "API_KEY = 'O7jNwhi5HptRZAX09Q5JklD9mnn5MWdjED5QFMRZNh9mdRIyLu2uaGBrzlclK001lfyssLTie5orFL%2BpKS5ogQ%3D%3D' # 자신의 인증키\n",
        "API_KEY_decode = requests.utils.unquote(API_KEY)\n",
        "API_KEY_decode"
      ]
    },
    {
      "cell_type": "code",
      "execution_count": null,
      "metadata": {
        "colab": {
          "base_uri": "https://localhost:8080/"
        },
        "id": "FXg6Cjb5v1kI",
        "outputId": "fe9afb0a-2a34-47e9-dfb4-d1a7070a4d9b"
      },
      "outputs": [
        {
          "name": "stdout",
          "output_type": "stream",
          "text": [
            "{'response': {'body': {'totalCount': 3, 'items': [{'sggName': '유성구', 'umdName': '봉명동', 'tmX': '231010.830978', 'tmY': '317078.29673', 'sidoName': '대전광역시'}, {'sggName': '천안시', 'umdName': '봉명동', 'tmX': '211899.479261', 'tmY': '367622.349549', 'sidoName': '충청남도'}, {'sggName': '청주시 흥덕구', 'umdName': '봉명동', 'tmX': '240905.896227', 'tmY': '349789.505711', 'sidoName': '충청북도'}], 'pageNo': 1, 'numOfRows': 10}, 'header': {'resultMsg': 'NORMAL_CODE', 'resultCode': '00'}}}\n"
          ]
        }
      ],
      "source": [
        "url = 'http://apis.data.go.kr/B552584/MsrstnInfoInqireSvc/getTMStdrCrdnt'\n",
        "\n",
        "umd_name = \"봉명동\"\n",
        "num_of_rows = 10 # 한 페이지에 포함된 결과 수\n",
        "page_no = 1 # 페이지 번호\n",
        "output_type = 'json'\n",
        "\n",
        "parameter = {\"serviceKey\": API_KEY_decode, \"returnType\":output_type, \"numOfRows\":num_of_rows,\n",
        "             \"pageNo\":page_no, \"umdName\":umd_name\n",
        "             }\n",
        "dict_data = requests.get(url, params = parameter).json()\n",
        "print(dict_data)\n",
        "dict_data['response']['body']['totalCount'] # 전체 결과의 개수\n",
        "total = dict_data['response']['body']['totalCount']\n",
        "#print(total)"
      ]
    },
    {
      "cell_type": "code",
      "execution_count": null,
      "metadata": {
        "colab": {
          "base_uri": "https://localhost:8080/"
        },
        "id": "xrCA4XAqxhvJ",
        "outputId": "72c039cc-7c8c-4577-cfd5-b3eac8dd1808"
      },
      "outputs": [
        {
          "name": "stdout",
          "output_type": "stream",
          "text": [
            "[입력한 읍/면/동명] 봉명동\n",
            "[TM 기준 좌표 조회 결과]\n",
            "3\n",
            "[{'sggName': '유성구', 'umdName': '봉명동', 'tmX': '231010.830978', 'tmY': '317078.29673', 'sidoName': '대전광역시'}, {'sggName': '천안시', 'umdName': '봉명동', 'tmX': '211899.479261', 'tmY': '367622.349549', 'sidoName': '충청남도'}, {'sggName': '청주시 흥덕구', 'umdName': '봉명동', 'tmX': '240905.896227', 'tmY': '349789.505711', 'sidoName': '충청북도'}]\n",
            "- 위치: 대전광역시 유성구 봉명동\n",
            "- k = 0, TM좌표(X, Y): 231010.830978 317078.29673\n",
            "\n",
            "- 위치: 충청남도 천안시 봉명동\n",
            "- k = 1, TM좌표(X, Y): 211899.479261 367622.349549\n",
            "\n",
            "- 위치: 충청북도 청주시 흥덕구 봉명동\n",
            "- k = 2, TM좌표(X, Y): 240905.896227 349789.505711\n",
            "\n"
          ]
        }
      ],
      "source": [
        "print(\"[입력한 읍/면/동명]\", umd_name)\n",
        "print(\"[TM 기준 좌표 조회 결과]\")\n",
        "print(dict_data['response']['body']['totalCount'])\n",
        "dict_data['list'] = dict_data['response']['body']['items']\n",
        "print(dict_data['list'])\n",
        "\n",
        "for k in range(total):\n",
        "  sgg = dict_data['list'][k]['sggName']\n",
        "  umd = dict_data['list'][k]['umdName']\n",
        "  tmX = dict_data['list'][k]['tmX']\n",
        "  tmY = dict_data['list'][k]['tmY']\n",
        "  sido = dict_data['list'][k]['sidoName']\n",
        "\n",
        "  print('- 위치: {0} {1} {2}'.format(sido, sgg, umd))\n",
        "  print('- k = {0}, TM좌표(X, Y): {1} {2}\\n'.format(k, tmX, tmY))"
      ]
    },
    {
      "cell_type": "code",
      "execution_count": null,
      "metadata": {
        "colab": {
          "base_uri": "https://localhost:8080/"
        },
        "id": "EC-UmK0Dzo_j",
        "outputId": "7cf6c4e8-fe89-40a7-b42d-1a1042cbbc95"
      },
      "outputs": [
        {
          "name": "stdout",
          "output_type": "stream",
          "text": [
            "TM 좌표(X, Y : 231010.830978 317078.29673\n"
          ]
        }
      ],
      "source": [
        "k = 0 # 대전껄로\n",
        "TM_X = dict_data['list'][k]['tmX']\n",
        "TM_Y = dict_data['list'][k]['tmY']\n",
        "print(\"TM 좌표(X, Y : {0} {1}\".format(TM_X, TM_Y))"
      ]
    },
    {
      "cell_type": "code",
      "execution_count": null,
      "metadata": {
        "colab": {
          "base_uri": "https://localhost:8080/"
        },
        "id": "lYl-Ycu30Iif",
        "outputId": "6f3d340b-9e88-4178-ac12-72e8495768c8"
      },
      "outputs": [
        {
          "name": "stdout",
          "output_type": "stream",
          "text": [
            "{'response': {'body': {'totalCount': 3, 'items': [{'stationCode': '525173', 'tm': 0.8, 'addr': '대전 서구 월평동160-5 도로변(월평자동차종합시장앞)', 'stationName': '월평동'}, {'stationCode': '525143', 'tm': 2.2, 'addr': '대전광역시 유성구 도안대로 398 대전역사박물관 (상대동)', 'stationName': '상대동(대전)'}, {'stationCode': '525142', 'tm': 3, 'addr': '대전 유성구 노은동로 87번길 89(노은1동 주민센터) 노은1동 주민센터 3층 옥상', 'stationName': '노은동'}], 'pageNo': 1, 'numOfRows': 10}, 'header': {'resultMsg': 'NORMAL_CODE', 'resultCode': '00'}}}\n",
            "해당 지역 근처에 있는 측정소의 개수 3\n"
          ]
        }
      ],
      "source": [
        "# 근접측정소 찾기\n",
        "req_url = 'http://apis.data.go.kr/B552584/MsrstnInfoInqireSvc/getNearbyMsrstnList'\n",
        "\n",
        "x_value = TM_X\n",
        "y_value = TM_Y\n",
        "num_of_rows = 10 # 한 페이지에 포함된 결과 수\n",
        "page_no = 1 # 페이지 번호\n",
        "ver = 1.1 # 차후 확인\n",
        "output_type : 'json'\n",
        "\n",
        "req_parameter = {\"serviceKey\":API_KEY_decode, \"tmX\":x_value, \"tmY\":y_value, \"ver\":ver, \"returnType\":output_type}\n",
        "dict_data = requests.get(req_url, params = req_parameter).json()\n",
        "print(dict_data)\n",
        "print(\"해당 지역 근처에 있는 측정소의 개수\", dict_data['response']['body']['totalCount'])\n",
        "total2 = dict_data['response']['body']['totalCount']"
      ]
    },
    {
      "cell_type": "code",
      "execution_count": null,
      "metadata": {
        "colab": {
          "base_uri": "https://localhost:8080/"
        },
        "id": "X6ZAFloE1zJt",
        "outputId": "be7431a3-682b-459b-bbca-5df557b72554"
      },
      "outputs": [
        {
          "name": "stdout",
          "output_type": "stream",
          "text": [
            "[측정소 정보]\n",
            "- 측정소 이름:월평동, 거리 0.8[km]\n",
            "- 측정소 주소:대전 서구 월평동160-5 도로변(월평자동차종합시장앞) \n",
            "\n",
            "- 측정소 이름:상대동(대전), 거리 2.2[km]\n",
            "- 측정소 주소:대전광역시 유성구 도안대로 398 대전역사박물관 (상대동) \n",
            "\n",
            "- 측정소 이름:노은동, 거리 3[km]\n",
            "- 측정소 주소:대전 유성구 노은동로 87번길 89(노은1동 주민센터) 노은1동 주민센터 3층 옥상 \n",
            "\n"
          ]
        }
      ],
      "source": [
        "print(\"[측정소 정보]\")\n",
        "dict_data['list'] = dict_data['response']['body']['items']\n",
        "#print(dict_data['list'])\n",
        "\n",
        "for k in range(total2):\n",
        "  stationName = dict_data['list'][k]['stationName']\n",
        "  distance = dict_data['list'][k]['tm']\n",
        "  addr = dict_data['list'][k]['addr']\n",
        "  print(\"- 측정소 이름:{0}, 거리 {1}[km]\".format(stationName, distance))\n",
        "  print(\"- 측정소 주소:{0} \\n\".format(addr))"
      ]
    }
  ],
  "metadata": {
    "colab": {
      "provenance": []
    },
    "kernelspec": {
      "display_name": "Python 3",
      "name": "python3"
    },
    "language_info": {
      "codemirror_mode": {
        "name": "ipython",
        "version": 3
      },
      "file_extension": ".py",
      "mimetype": "text/x-python",
      "name": "python",
      "nbconvert_exporter": "python",
      "pygments_lexer": "ipython3",
      "version": "3.9.6"
    }
  },
  "nbformat": 4,
  "nbformat_minor": 0
}
